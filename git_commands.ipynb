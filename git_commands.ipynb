{
 "cells": [
  {
   "cell_type": "markdown",
   "metadata": {},
   "source": [
    "Git Commands\n",
    "=====\n",
    "Mahmoud Azmy\n",
    "____________"
   ]
  },
  {
   "cell_type": "markdown",
   "metadata": {},
   "source": [
    "> `to track file use the follwing command:`"
   ]
  },
  {
   "cell_type": "code",
   "execution_count": null,
   "metadata": {
    "vscode": {
     "languageId": "bat"
    }
   },
   "outputs": [],
   "source": [
    "git add fileName"
   ]
  },
  {
   "cell_type": "markdown",
   "metadata": {},
   "source": [
    "***"
   ]
  },
  {
   "cell_type": "markdown",
   "metadata": {},
   "source": [
    "> `to track everything use the following command:`"
   ]
  },
  {
   "cell_type": "code",
   "execution_count": null,
   "metadata": {
    "vscode": {
     "languageId": "bat"
    }
   },
   "outputs": [],
   "source": [
    "git add . "
   ]
  },
  {
   "cell_type": "markdown",
   "metadata": {},
   "source": [
    "****"
   ]
  },
  {
   "cell_type": "markdown",
   "metadata": {},
   "source": [
    "> `To list files in a directory (including subdirectories) in Windows, you should use the dir command with the /s option. Here's how you can list all files in the .git/objects/ directory:`"
   ]
  },
  {
   "cell_type": "code",
   "execution_count": null,
   "metadata": {
    "vscode": {
     "languageId": "bat"
    }
   },
   "outputs": [],
   "source": [
    "dir /s /b .git\\objects"
   ]
  },
  {
   "cell_type": "markdown",
   "metadata": {},
   "source": [
    "***\n"
   ]
  },
  {
   "cell_type": "markdown",
   "metadata": {},
   "source": [
    ">``` If you want to filter only files (excluding directories), you can use the following command: ```"
   ]
  },
  {
   "cell_type": "code",
   "execution_count": null,
   "metadata": {
    "vscode": {
     "languageId": "bat"
    }
   },
   "outputs": [],
   "source": [
    "dir /s /b /a-d .git\\objects"
   ]
  },
  {
   "cell_type": "markdown",
   "metadata": {},
   "source": [
    "***"
   ]
  },
  {
   "cell_type": "markdown",
   "metadata": {},
   "source": [
    "> `to show the commit details use the following command:`"
   ]
  },
  {
   "cell_type": "code",
   "execution_count": null,
   "metadata": {
    "vscode": {
     "languageId": "bat"
    }
   },
   "outputs": [],
   "source": [
    "git cat-file -p sha1"
   ]
  },
  {
   "cell_type": "markdown",
   "metadata": {},
   "source": [
    "***"
   ]
  },
  {
   "cell_type": "markdown",
   "metadata": {},
   "source": [
    ">`Compare working directory with the staging area (index):`"
   ]
  },
  {
   "cell_type": "code",
   "execution_count": null,
   "metadata": {
    "vscode": {
     "languageId": "bat"
    }
   },
   "outputs": [],
   "source": [
    "git diff"
   ]
  },
  {
   "cell_type": "markdown",
   "metadata": {},
   "source": [
    ">`Compare the staging area with the latest commit (HEAD):`\n"
   ]
  },
  {
   "cell_type": "code",
   "execution_count": null,
   "metadata": {
    "vscode": {
     "languageId": "bat"
    }
   },
   "outputs": [],
   "source": [
    "git diff --cached"
   ]
  },
  {
   "cell_type": "markdown",
   "metadata": {},
   "source": [
    ">`Compare the working directory with the latest commit (HEAD):`"
   ]
  },
  {
   "cell_type": "code",
   "execution_count": null,
   "metadata": {
    "vscode": {
     "languageId": "bat"
    }
   },
   "outputs": [],
   "source": [
    "git diff HEAD"
   ]
  },
  {
   "cell_type": "markdown",
   "metadata": {},
   "source": [
    ">`Compare two specific commits:`\n",
    "Replace commit1 and commit2 with the commit hashes, branch names, or tags you want to compare."
   ]
  },
  {
   "cell_type": "code",
   "execution_count": null,
   "metadata": {
    "vscode": {
     "languageId": "bat"
    }
   },
   "outputs": [],
   "source": [
    "git diff commit1..commit2"
   ]
  },
  {
   "cell_type": "markdown",
   "metadata": {},
   "source": [
    ">`Compare two branches:`"
   ]
  },
  {
   "cell_type": "code",
   "execution_count": null,
   "metadata": {
    "vscode": {
     "languageId": "bat"
    }
   },
   "outputs": [],
   "source": [
    "git diff branch1..branch2"
   ]
  },
  {
   "cell_type": "markdown",
   "metadata": {},
   "source": [
    "***"
   ]
  },
  {
   "cell_type": "markdown",
   "metadata": {},
   "source": [
    "> - `the commit that hasn't parent is called => root commit `\n",
    "> - `Branch : Sequance of commits, By default is called master`"
   ]
  },
  {
   "cell_type": "markdown",
   "metadata": {},
   "source": [
    "***"
   ]
  },
  {
   "cell_type": "code",
   "execution_count": null,
   "metadata": {
    "vscode": {
     "languageId": "bat"
    }
   },
   "outputs": [],
   "source": [
    "https://marklodato.github.io/visual-git-guide/index-en.html"
   ]
  },
  {
   "cell_type": "markdown",
   "metadata": {},
   "source": [
    "***"
   ]
  },
  {
   "cell_type": "markdown",
   "metadata": {},
   "source": [
    ">`To delete the .git directory in Windows, you can use the rmdir or del command`\n",
    ">- `/s`: Removes all files and subdirectories.\n",
    ">- `/q`: Runs the command in \"quiet\" mode (no confirmation prompts)."
   ]
  },
  {
   "cell_type": "code",
   "execution_count": null,
   "metadata": {
    "vscode": {
     "languageId": "bat"
    }
   },
   "outputs": [],
   "source": [
    "rmdir /s /q .git"
   ]
  },
  {
   "cell_type": "markdown",
   "metadata": {},
   "source": [
    "***"
   ]
  },
  {
   "cell_type": "markdown",
   "metadata": {},
   "source": [
    ">`Untracking a Tracked File`\n",
    ">- If you want to stop tracking a file but keep it in your working directory, use"
   ]
  },
  {
   "cell_type": "code",
   "execution_count": null,
   "metadata": {
    "vscode": {
     "languageId": "bat"
    }
   },
   "outputs": [],
   "source": [
    "git rm --cached <filename>"
   ]
  },
  {
   "cell_type": "markdown",
   "metadata": {},
   "source": [
    ">- This removes the file from the staging area (index) but leaves it in your working directory."
   ]
  },
  {
   "cell_type": "markdown",
   "metadata": {},
   "source": [
    "***"
   ]
  },
  {
   "cell_type": "markdown",
   "metadata": {},
   "source": [
    ">` Unstaging a Staged File`\n",
    ">- If you staged a file but want to unstage it, you can use either `git restore --staged (modern)` or `git reset HEAD (older but still works)`."
   ]
  },
  {
   "cell_type": "code",
   "execution_count": null,
   "metadata": {
    "vscode": {
     "languageId": "bat"
    }
   },
   "outputs": [],
   "source": [
    "# Modern way (Git 2.23+)\n",
    "git restore --staged <filename>\n",
    "\n",
    "# Older way (still works)\n",
    "git reset HEAD <filename>"
   ]
  },
  {
   "cell_type": "markdown",
   "metadata": {},
   "source": [
    ">- Both commands unstage the file but do not modify the file in your working directory."
   ]
  },
  {
   "cell_type": "markdown",
   "metadata": {},
   "source": [
    "***"
   ]
  },
  {
   "cell_type": "markdown",
   "metadata": {},
   "source": [
    ">`Restoring a File to a Previous Version`\n",
    ">- If you want to restore a file to its state in the last commit (or another commit), use `git restore`."
   ]
  },
  {
   "cell_type": "code",
   "execution_count": null,
   "metadata": {
    "vscode": {
     "languageId": "bat"
    }
   },
   "outputs": [],
   "source": [
    "# Restore a file to its state in the last commit\n",
    "git restore <filename>\n",
    "\n",
    "# Restore a file to its state in a specific commit\n",
    "git restore --source=<commit> <filename>"
   ]
  },
  {
   "cell_type": "markdown",
   "metadata": {},
   "source": [
    "****"
   ]
  },
  {
   "cell_type": "markdown",
   "metadata": {},
   "source": [
    ">`Changing the Most Recent Commit`\n",
    ">- If you forgot to add files or messed up the commit message, you can use `git commit --amend `to modify the most recent commit."
   ]
  },
  {
   "cell_type": "code",
   "execution_count": null,
   "metadata": {
    "vscode": {
     "languageId": "bat"
    }
   },
   "outputs": [],
   "source": [
    "# Stage any forgotten files\n",
    "git add forgotten_file\n",
    "\n",
    "# Amend the commit (this will open your editor to modify the commit message)\n",
    "git commit --amend"
   ]
  },
  {
   "cell_type": "markdown",
   "metadata": {},
   "source": [
    "***\n"
   ]
  },
  {
   "cell_type": "code",
   "execution_count": null,
   "metadata": {
    "vscode": {
     "languageId": "bat"
    }
   },
   "outputs": [],
   "source": [
    "git reset --hard HEAD~2"
   ]
  },
  {
   "cell_type": "markdown",
   "metadata": {},
   "source": [
    ">`What Does git reset --hard HEAD~2 Do?`\n",
    ">- `git reset`: Moves the current branch pointer to a specific commit.\n",
    ">- `--hard`: Resets the working directory and staging area to match the specified commit. Any uncommitted changes or staged changes will be permanently discarded.\n",
    ">- `HEAD~2`: Refers to the commit that is two commits behind the current HEAD"
   ]
  },
  {
   "cell_type": "markdown",
   "metadata": {},
   "source": [
    ">`View the reflog to find the commit hash of the lost commit`"
   ]
  },
  {
   "cell_type": "code",
   "execution_count": null,
   "metadata": {
    "vscode": {
     "languageId": "bat"
    }
   },
   "outputs": [],
   "source": [
    "git reflog"
   ]
  },
  {
   "cell_type": "markdown",
   "metadata": {},
   "source": [
    ">`Reset back to the desired commit`"
   ]
  },
  {
   "cell_type": "code",
   "execution_count": null,
   "metadata": {
    "vscode": {
     "languageId": "bat"
    }
   },
   "outputs": [],
   "source": [
    "git reset --hard <commit-hash>"
   ]
  },
  {
   "cell_type": "markdown",
   "metadata": {},
   "source": [
    ">`If you want to move the branch pointer but keep your changes in the working directory and staging area, use --soft instead of --hard`"
   ]
  },
  {
   "cell_type": "code",
   "execution_count": null,
   "metadata": {
    "vscode": {
     "languageId": "bat"
    }
   },
   "outputs": [],
   "source": [
    "git reset --soft HEAD~2"
   ]
  },
  {
   "cell_type": "markdown",
   "metadata": {},
   "source": [
    "***"
   ]
  },
  {
   "cell_type": "markdown",
   "metadata": {},
   "source": [
    ">`To create a new branch:`"
   ]
  },
  {
   "cell_type": "code",
   "execution_count": null,
   "metadata": {
    "vscode": {
     "languageId": "bat"
    }
   },
   "outputs": [],
   "source": [
    "git branch <branch-name>"
   ]
  },
  {
   "cell_type": "markdown",
   "metadata": {},
   "source": [
    ">`To list all branches in your repository:`"
   ]
  },
  {
   "cell_type": "code",
   "execution_count": null,
   "metadata": {
    "vscode": {
     "languageId": "bat"
    }
   },
   "outputs": [],
   "source": [
    "git branch"
   ]
  },
  {
   "cell_type": "markdown",
   "metadata": {},
   "source": [
    ">`To list both local and remote branches:`"
   ]
  },
  {
   "cell_type": "code",
   "execution_count": null,
   "metadata": {
    "vscode": {
     "languageId": "bat"
    }
   },
   "outputs": [],
   "source": [
    "git branch -a"
   ]
  },
  {
   "cell_type": "markdown",
   "metadata": {},
   "source": [
    ">`To Switch to a New Branch`"
   ]
  },
  {
   "cell_type": "code",
   "execution_count": null,
   "metadata": {
    "vscode": {
     "languageId": "bat"
    }
   },
   "outputs": [],
   "source": [
    "git switch <branch-name>"
   ]
  },
  {
   "cell_type": "markdown",
   "metadata": {},
   "source": [
    ">`to merge specific branch into the current branch`\n",
    ">- Ensure You're on the Target Branch"
   ]
  },
  {
   "cell_type": "code",
   "execution_count": null,
   "metadata": {
    "vscode": {
     "languageId": "bat"
    }
   },
   "outputs": [],
   "source": [
    "git merge branchName"
   ]
  },
  {
   "cell_type": "markdown",
   "metadata": {},
   "source": [
    ">`What Does git merge branchName Do?`\n",
    ">- It integrates changes from the `branchName` into the `current branch`.\n",
    ">- If there are no conflicts, Git will perform a fast-forward merge or a 3-way merge automatically.\n",
    ">- If there are conflicts, Git will pause and ask you to resolve them manually."
   ]
  },
  {
   "cell_type": "markdown",
   "metadata": {},
   "source": [
    ">`To list branches merged into the current branch:`"
   ]
  },
  {
   "cell_type": "code",
   "execution_count": null,
   "metadata": {
    "vscode": {
     "languageId": "bat"
    }
   },
   "outputs": [],
   "source": [
    "git branch --merged"
   ]
  },
  {
   "cell_type": "markdown",
   "metadata": {},
   "source": [
    ">`To list branches merged into a specific branch (e.g., master):`"
   ]
  },
  {
   "cell_type": "code",
   "execution_count": null,
   "metadata": {
    "vscode": {
     "languageId": "bat"
    }
   },
   "outputs": [],
   "source": [
    "git branch --merged master"
   ]
  },
  {
   "cell_type": "markdown",
   "metadata": {},
   "source": [
    ">`Deleting Merged Branches`\n",
    ">- Once you've identified branches that are fully merged, you can safely delete them to clean up your repository.\n",
    ">- `1. Delete a Single Branch`"
   ]
  },
  {
   "cell_type": "code",
   "execution_count": null,
   "metadata": {
    "vscode": {
     "languageId": "bat"
    }
   },
   "outputs": [],
   "source": [
    "git branch -d <branch-name>"
   ]
  },
  {
   "cell_type": "markdown",
   "metadata": {},
   "source": [
    ">- `print out the history of your commits, showing where your branch pointers are and how your history has diverged.`\n"
   ]
  },
  {
   "cell_type": "code",
   "execution_count": null,
   "metadata": {
    "vscode": {
     "languageId": "bat"
    }
   },
   "outputs": [],
   "source": [
    "git log --oneline --decorate --graph --all "
   ]
  },
  {
   "cell_type": "markdown",
   "metadata": {},
   "source": [
    "***\n"
   ]
  },
  {
   "cell_type": "markdown",
   "metadata": {},
   "source": [
    ">`Cloning a Remote Repository`"
   ]
  },
  {
   "cell_type": "code",
   "execution_count": null,
   "metadata": {
    "vscode": {
     "languageId": "bat"
    }
   },
   "outputs": [],
   "source": [
    "git clone <remot_repo_url>"
   ]
  },
  {
   "cell_type": "markdown",
   "metadata": {},
   "source": [
    ">- This command creates a local copy of a remote repository.\n",
    ">- Replace the URL with the actual URL of the repository you want to clone."
   ]
  },
  {
   "cell_type": "markdown",
   "metadata": {},
   "source": [
    ">`Listing Remote Repositories`"
   ]
  },
  {
   "cell_type": "code",
   "execution_count": null,
   "metadata": {
    "vscode": {
     "languageId": "bat"
    }
   },
   "outputs": [],
   "source": [
    "git remote"
   ]
  },
  {
   "cell_type": "markdown",
   "metadata": {},
   "source": [
    ">` Listing Remote Repositories with URLs`"
   ]
  },
  {
   "cell_type": "code",
   "execution_count": null,
   "metadata": {
    "vscode": {
     "languageId": "bat"
    }
   },
   "outputs": [],
   "source": [
    "git remote -v"
   ]
  },
  {
   "cell_type": "markdown",
   "metadata": {},
   "source": [
    ">` Listing Remote branchs`"
   ]
  },
  {
   "cell_type": "code",
   "execution_count": null,
   "metadata": {
    "vscode": {
     "languageId": "bat"
    }
   },
   "outputs": [],
   "source": [
    "git branch -r"
   ]
  },
  {
   "cell_type": "markdown",
   "metadata": {},
   "source": [
    ">`To add a new remote repository:`"
   ]
  },
  {
   "cell_type": "code",
   "execution_count": null,
   "metadata": {
    "vscode": {
     "languageId": "bat"
    }
   },
   "outputs": [],
   "source": [
    "git remote add <name> <url>"
   ]
  },
  {
   "cell_type": "markdown",
   "metadata": {},
   "source": [
    ">`To rename a remote repository:`"
   ]
  },
  {
   "cell_type": "code",
   "execution_count": null,
   "metadata": {
    "vscode": {
     "languageId": "bat"
    }
   },
   "outputs": [],
   "source": [
    "git remote rename <old-name> <new-name>"
   ]
  },
  {
   "cell_type": "markdown",
   "metadata": {},
   "source": [
    ">`To remove a remote repository:`"
   ]
  },
  {
   "cell_type": "code",
   "execution_count": null,
   "metadata": {
    "vscode": {
     "languageId": "bat"
    }
   },
   "outputs": [],
   "source": [
    "git remote remove <name>"
   ]
  },
  {
   "cell_type": "markdown",
   "metadata": {},
   "source": [
    ">`Fetching from a Remote Repository`"
   ]
  },
  {
   "cell_type": "code",
   "execution_count": null,
   "metadata": {
    "vscode": {
     "languageId": "bat"
    }
   },
   "outputs": [],
   "source": [
    "git fetch <name>"
   ]
  },
  {
   "cell_type": "markdown",
   "metadata": {},
   "source": [
    ">`Pushing to a Remote Repository`"
   ]
  },
  {
   "cell_type": "code",
   "execution_count": null,
   "metadata": {
    "vscode": {
     "languageId": "bat"
    }
   },
   "outputs": [],
   "source": [
    "git push <name> <branch>"
   ]
  },
  {
   "cell_type": "code",
   "execution_count": null,
   "metadata": {
    "vscode": {
     "languageId": "bat"
    }
   },
   "outputs": [],
   "source": [
    "# Rename locally\n",
    "git checkout old-branch-name\n",
    "git branch -m new-branch-name\n",
    "\n",
    "# Push the renamed branch and delete the old one\n",
    "git push origin -u new-branch-name\n",
    "git push origin --delete old-branch-name\n",
    "\n",
    "# Update upstream (if needed)\n",
    "git branch --set-upstream-to=origin/new-branch-name new-branch-name"
   ]
  },
  {
   "cell_type": "markdown",
   "metadata": {},
   "source": [
    "************************************************************************************************"
   ]
  },
  {
   "cell_type": "markdown",
   "metadata": {},
   "source": [
    "Git Commands Notebook\n",
    "=====================\n",
    "\n",
    "1. Basic Git Commands\n",
    "---------------------\n",
    "- Initialize a Repository:\n",
    "  git init\n",
    "\n",
    "- Clone a Repository:\n",
    "  git clone <repository-url>\n",
    "\n",
    "- Check Repository Status:\n",
    "  git status\n",
    "\n",
    "- Stage Changes:\n",
    "  git add <file>\n",
    "\n",
    "- Commit Changes:\n",
    "  git commit -m \"Commit message\"\n",
    "\n",
    "- View Commit History:\n",
    "  git log\n",
    "\n",
    "- Condensed Commit History:\n",
    "  git log --oneline\n",
    "\n",
    "\n",
    "2. Branching\n",
    "------------\n",
    "- List Branches:\n",
    "  git branch\n",
    "\n",
    "- Create a New Branch:\n",
    "  git branch <branch-name>\n",
    "\n",
    "- Switch to a Branch:\n",
    "  git checkout <branch-name>\n",
    "  or (Git 2.23+):\n",
    "  git switch <branch-name>\n",
    "\n",
    "- Create and Switch to a New Branch:\n",
    "  git checkout -b <branch-name>\n",
    "  or (Git 2.23+):\n",
    "  git switch -c <branch-name>\n",
    "\n",
    "- Delete a Branch:\n",
    "  git branch -d <branch-name>\n",
    "\n",
    "- Force Delete a Branch:\n",
    "  git branch -D <branch-name>\n",
    "\n",
    "- List Merged Branches:\n",
    "  git branch --merged\n",
    "\n",
    "- List Remote Branches:\n",
    "  git branch -r\n",
    "\n",
    "\n",
    "3. Merging\n",
    "----------\n",
    "- Merge a Branch into Current Branch:\n",
    "  git merge <branch-name>\n",
    "\n",
    "- Abort a Merge:\n",
    "  git merge --abort\n",
    "\n",
    "- Resolve Merge Conflicts:\n",
    "  1. Edit the conflicted files.\n",
    "  2. Stage the resolved files:\n",
    "     git add <file>\n",
    "  3. Complete the merge:\n",
    "     git commit\n",
    "\n",
    "\n",
    "4. Undoing Changes\n",
    "------------------\n",
    "- Unstage a File:\n",
    "  git reset HEAD <file>\n",
    "  or (Git 2.23+):\n",
    "  git restore --staged <file>\n",
    "\n",
    "- Discard Changes in Working Directory:\n",
    "  git restore <file>\n",
    "  or (older Git versions):\n",
    "  git checkout -- <file>\n",
    "\n",
    "- Amend the Last Commit:\n",
    "  git commit --amend\n",
    "\n",
    "- Reset to a Previous Commit:\n",
    "  git reset --hard HEAD~<n>\n",
    "  Replace <n> with the number of commits to go back.\n",
    "\n",
    "\n",
    "5. Remote Repositories\n",
    "----------------------\n",
    "- List Remote Repositories:\n",
    "  git remote\n",
    "\n",
    "- List Remote Repositories with URLs:\n",
    "  git remote -v\n",
    "\n",
    "- Add a Remote Repository:\n",
    "  git remote add <name> <url>\n",
    "\n",
    "- Rename a Remote Repository:\n",
    "  git remote rename <old-name> <new-name>\n",
    "\n",
    "- Remove a Remote Repository:\n",
    "  git remote remove <name>\n",
    "\n",
    "- Fetch Changes from a Remote:\n",
    "  git fetch <name>\n",
    "\n",
    "- Push Changes to a Remote:\n",
    "  git push <name> <branch>\n",
    "\n",
    "- Delete a Remote Branch:\n",
    "  git push <name> --delete <branch>\n",
    "\n",
    "\n",
    "6. Advanced Commands\n",
    "--------------------\n",
    "- View Changes Between Commits:\n",
    "  git diff <commit1> <commit2>\n",
    "\n",
    "- View Changes in Working Directory:\n",
    "  git diff\n",
    "\n",
    "- View Staged Changes:\n",
    "  git diff --cached\n",
    "\n",
    "- View Changes in a Specific File:\n",
    "  git diff <file>\n",
    "\n",
    "- Search Commit Messages:\n",
    "  git log --grep=\"search-term\"\n",
    "\n",
    "- View Commit History for a File:\n",
    "  git log <file>\n",
    "\n",
    "- Recover Lost Commits:\n",
    "  git reflog\n",
    "\n",
    "\n",
    "7. Configuration\n",
    "----------------\n",
    "- Set Global Username:\n",
    "  git config --global user.name \"Your Name\"\n",
    "\n",
    "- Set Global Email:\n",
    "  git config --global user.email \"your.email@example.com\"\n",
    "\n",
    "- Set Default Editor:\n",
    "  git config --global core.editor \"code --wait\"  # For VS Code\n",
    "\n",
    "- View Configuration:\n",
    "  git config --list\n",
    "\n",
    "\n",
    "8. Three-Way Merge\n",
    "------------------\n",
    "- What It Is:\n",
    "  Combines changes from two branches using:\n",
    "  1. Base: Common ancestor commit.\n",
    "  2. Source: Tip of the branch being merged.\n",
    "  3. Target: Tip of the current branch.\n",
    "\n",
    "- Resolve Conflicts:\n",
    "  1. Edit conflicted files.\n",
    "  2. Stage resolved files:\n",
    "     git add <file>\n",
    "  3. Complete the merge:\n",
    "     git commit\n",
    "\n",
    "\n",
    "9. Cleaning Up\n",
    "--------------\n",
    "- Delete Merged Branches:\n",
    "  git branch --merged | grep -v \"\\*\" | xargs git branch -d\n",
    "\n",
    "- Delete Remote Branches:\n",
    "  git push origin --delete <branch>"
   ]
  }
 ],
 "metadata": {
  "language_info": {
   "name": "python"
  }
 },
 "nbformat": 4,
 "nbformat_minor": 2
}
